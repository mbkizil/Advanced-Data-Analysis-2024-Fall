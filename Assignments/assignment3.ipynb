{
 "cells": [
  {
   "cell_type": "markdown",
   "id": "ea2d8b69",
   "metadata": {},
   "source": [
    "# Assignment 3: Web Scraping"
   ]
  },
  {
   "cell_type": "markdown",
   "id": "81ddd1dd",
   "metadata": {},
   "source": [
    "## Website: books.toscrape.com\n",
    "\n",
    "#### This is a sample website designed for scraping practices.\n",
    "#### Website contains data about books stored in 'article' classes."
   ]
  },
  {
   "cell_type": "code",
   "execution_count": 1,
   "id": "b77fa6e9",
   "metadata": {},
   "outputs": [],
   "source": [
    "#!pip install requests beautifulsoup4 pandas"
   ]
  },
  {
   "cell_type": "code",
   "execution_count": 2,
   "id": "4d9c3500",
   "metadata": {},
   "outputs": [
    {
     "name": "stderr",
     "output_type": "stream",
     "text": [
      "/Users/burakkizil/Library/Python/3.9/lib/python/site-packages/urllib3/__init__.py:34: NotOpenSSLWarning: urllib3 v2.0 only supports OpenSSL 1.1.1+, currently the 'ssl' module is compiled with 'LibreSSL 2.8.3'. See: https://github.com/urllib3/urllib3/issues/3020\n",
      "  warnings.warn(\n"
     ]
    }
   ],
   "source": [
    "import requests\n",
    "from bs4 import BeautifulSoup\n",
    "import pandas as pd"
   ]
  },
  {
   "cell_type": "code",
   "execution_count": 3,
   "id": "a5a0bd60",
   "metadata": {},
   "outputs": [],
   "source": [
    "url = 'http://books.toscrape.com/'\n",
    "response = requests.get(url)\n",
    "if response.status_code == 200:\n",
    "    html_content = response.text\n",
    "else:\n",
    "    print('Failed to retrieve the webpage.')\n",
    "response.encoding = 'utf-8' ## Specifically for £ sign"
   ]
  },
  {
   "cell_type": "markdown",
   "id": "c1c0bcf6",
   "metadata": {},
   "source": [
    "## Retrieving the data\n",
    "\n",
    "#### Each book is stored in article class with class name 'product_pod' in the html file\n",
    "#### Title of each book is within h3 headers\n",
    "#### Price of each book is given as paragraph with the class name 'price color'\n",
    "#### Availability of the books is in the text form as In stock or out of stock stored in class name 'instock availability'\n",
    "#### Ratings are stored as second element of book.p['class'l]\n",
    "\n",
    "### After retrieving this information, we store them on a list temporarily, then convert to pandas data frame object"
   ]
  },
  {
   "cell_type": "code",
   "execution_count": 4,
   "id": "338bb0bb",
   "metadata": {},
   "outputs": [],
   "source": [
    "soup = BeautifulSoup(html_content, 'html.parser')\n",
    "books = soup.find_all('article', class_='product_pod')\n",
    "\n",
    "book_list = []\n",
    "\n",
    "for book in books:\n",
    "    title = book.h3.a['title']\n",
    "    price = book.find('p', class_='price_color').text\n",
    "    availability = book.find('p', class_='instock availability').text.strip()\n",
    "    rating = book.p['class'][1]\n",
    "    \n",
    "    book_info = {\n",
    "        'Title': title,\n",
    "        'Price': price,\n",
    "        'Availability': availability,\n",
    "        'Rating': rating\n",
    "    }\n",
    "    book_list.append(book_info)"
   ]
  },
  {
   "cell_type": "code",
   "execution_count": 5,
   "id": "10caf2c3",
   "metadata": {},
   "outputs": [],
   "source": [
    "df = pd.DataFrame(book_list)"
   ]
  },
  {
   "cell_type": "markdown",
   "id": "5d3dc018",
   "metadata": {},
   "source": [
    "## Data Preprocessing\n",
    "\n",
    "#### To convert prices into floats, in the first line we ensure there is no non-ascii characters in the strings, then get rid of the £ sign in the second line below\n",
    "#### We convert rating strings which are given in text into integers using the following mapping\n",
    "#### Then we check and ensure there aren't any missing values"
   ]
  },
  {
   "cell_type": "code",
   "execution_count": 6,
   "id": "3dbd09eb",
   "metadata": {},
   "outputs": [],
   "source": [
    "df['Price'] = df['Price'].str.encode('ascii', 'ignore').str.decode('ascii')\n",
    "df['Price'] = df['Price'].str.replace('£', '').astype(float)"
   ]
  },
  {
   "cell_type": "code",
   "execution_count": 7,
   "id": "290f8020",
   "metadata": {},
   "outputs": [],
   "source": [
    "rating_mapping = {\n",
    "    'One': 1,\n",
    "    'Two': 2,\n",
    "    'Three': 3,\n",
    "    'Four': 4,\n",
    "    'Five': 5\n",
    "}\n",
    "df['Rating'] = df['Rating'].map(rating_mapping)"
   ]
  },
  {
   "cell_type": "code",
   "execution_count": 8,
   "id": "ce32960b",
   "metadata": {},
   "outputs": [
    {
     "data": {
      "text/plain": [
       "Title           0\n",
       "Price           0\n",
       "Availability    0\n",
       "Rating          0\n",
       "dtype: int64"
      ]
     },
     "execution_count": 8,
     "metadata": {},
     "output_type": "execute_result"
    }
   ],
   "source": [
    "df.isnull().sum()"
   ]
  },
  {
   "cell_type": "markdown",
   "id": "0d339cd1",
   "metadata": {},
   "source": [
    "## Now we can save the dataset and display some samples"
   ]
  },
  {
   "cell_type": "code",
   "execution_count": 9,
   "id": "344df5cb",
   "metadata": {},
   "outputs": [],
   "source": [
    "df.to_csv('books.csv', index=False)"
   ]
  },
  {
   "cell_type": "code",
   "execution_count": 10,
   "id": "63ce4243",
   "metadata": {},
   "outputs": [
    {
     "data": {
      "text/html": [
       "<div>\n",
       "<style scoped>\n",
       "    .dataframe tbody tr th:only-of-type {\n",
       "        vertical-align: middle;\n",
       "    }\n",
       "\n",
       "    .dataframe tbody tr th {\n",
       "        vertical-align: top;\n",
       "    }\n",
       "\n",
       "    .dataframe thead th {\n",
       "        text-align: right;\n",
       "    }\n",
       "</style>\n",
       "<table border=\"1\" class=\"dataframe\">\n",
       "  <thead>\n",
       "    <tr style=\"text-align: right;\">\n",
       "      <th></th>\n",
       "      <th>Title</th>\n",
       "      <th>Price</th>\n",
       "      <th>Availability</th>\n",
       "      <th>Rating</th>\n",
       "    </tr>\n",
       "  </thead>\n",
       "  <tbody>\n",
       "    <tr>\n",
       "      <th>0</th>\n",
       "      <td>A Light in the Attic</td>\n",
       "      <td>51.77</td>\n",
       "      <td>In stock</td>\n",
       "      <td>3</td>\n",
       "    </tr>\n",
       "    <tr>\n",
       "      <th>1</th>\n",
       "      <td>Tipping the Velvet</td>\n",
       "      <td>53.74</td>\n",
       "      <td>In stock</td>\n",
       "      <td>1</td>\n",
       "    </tr>\n",
       "    <tr>\n",
       "      <th>2</th>\n",
       "      <td>Soumission</td>\n",
       "      <td>50.10</td>\n",
       "      <td>In stock</td>\n",
       "      <td>1</td>\n",
       "    </tr>\n",
       "    <tr>\n",
       "      <th>3</th>\n",
       "      <td>Sharp Objects</td>\n",
       "      <td>47.82</td>\n",
       "      <td>In stock</td>\n",
       "      <td>4</td>\n",
       "    </tr>\n",
       "    <tr>\n",
       "      <th>4</th>\n",
       "      <td>Sapiens: A Brief History of Humankind</td>\n",
       "      <td>54.23</td>\n",
       "      <td>In stock</td>\n",
       "      <td>5</td>\n",
       "    </tr>\n",
       "  </tbody>\n",
       "</table>\n",
       "</div>"
      ],
      "text/plain": [
       "                                   Title  Price Availability  Rating\n",
       "0                   A Light in the Attic  51.77     In stock       3\n",
       "1                     Tipping the Velvet  53.74     In stock       1\n",
       "2                             Soumission  50.10     In stock       1\n",
       "3                          Sharp Objects  47.82     In stock       4\n",
       "4  Sapiens: A Brief History of Humankind  54.23     In stock       5"
      ]
     },
     "execution_count": 10,
     "metadata": {},
     "output_type": "execute_result"
    }
   ],
   "source": [
    "df.head()"
   ]
  },
  {
   "cell_type": "markdown",
   "id": "428982d6",
   "metadata": {},
   "source": [
    "## Below are some additional statistics of the datasets"
   ]
  },
  {
   "cell_type": "code",
   "execution_count": 11,
   "id": "0067621d",
   "metadata": {},
   "outputs": [
    {
     "name": "stdout",
     "output_type": "stream",
     "text": [
      "Total number of books scraped: 20\n",
      "\n",
      "Average price of books: £38.05\n",
      "\n",
      "Median price of books: £41.38\n",
      "\n",
      "\n",
      "Price Statistics:\n",
      "count    20.000000\n",
      "mean     38.048500\n",
      "std      15.135231\n",
      "min      13.990000\n",
      "25%      22.637500\n",
      "50%      41.380000\n",
      "75%      51.865000\n",
      "max      57.250000\n",
      "Name: Price, dtype: float64\n"
     ]
    },
    {
     "data": {
      "image/png": "[encoded data removed]",
      "text/plain": [
       "<Figure size 800x600 with 1 Axes>"
      ]
     },
     "metadata": {},
     "output_type": "display_data"
    }
   ],
   "source": [
    "import matplotlib.pyplot as plt\n",
    "total_books = len(df)\n",
    "print(f'Total number of books scraped: {total_books}\\n')\n",
    "\n",
    "# Average price\n",
    "average_price = df['Price'].mean()\n",
    "print(f'Average price of books: £{average_price:.2f}\\n')\n",
    "\n",
    "# Median price\n",
    "median_price = df['Price'].median()\n",
    "print(f'Median price of books: £{median_price:.2f}\\n')\n",
    "\n",
    "# Price statistics\n",
    "print('\\nPrice Statistics:')\n",
    "print(df['Price'].describe())\n",
    "\n",
    "# Rating distribution\n",
    "rating_counts = df['Rating'].value_counts().sort_index()\n",
    "\n",
    "# Plotting the rating distribution histogram\n",
    "plt.figure(figsize=(8,6))\n",
    "plt.bar(rating_counts.index, rating_counts.values, tick_label=rating_counts.index, color='b', edgecolor='black')\n",
    "plt.xlabel('Book Rating')\n",
    "plt.ylabel('Number of Books')\n",
    "plt.title('Distribution of Book Ratings')\n",
    "plt.xticks([1, 2, 3, 4, 5])\n",
    "plt.grid(axis='y', linestyle='--')\n",
    "plt.show()\n"
   ]
  },
  {
   "cell_type": "code",
   "execution_count": null,
   "id": "8008004b",
   "metadata": {},
   "outputs": [],
   "source": []
  }
 ],
 "metadata": {
  "kernelspec": {
   "display_name": "Python 3 (ipykernel)",
   "language": "python",
   "name": "python3"
  },
  "language_info": {
   "codemirror_mode": {
    "name": "ipython",
    "version": 3
   },
   "file_extension": ".py",
   "mimetype": "text/x-python",
   "name": "python",
   "nbconvert_exporter": "python",
   "pygments_lexer": "ipython3",
   "version": "3.9.6"
  }
 },
 "nbformat": 4,
 "nbformat_minor": 5
}
