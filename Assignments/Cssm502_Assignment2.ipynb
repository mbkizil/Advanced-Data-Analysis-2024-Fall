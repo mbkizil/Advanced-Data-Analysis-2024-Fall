{
 "cells": [
  {
   "cell_type": "code",
   "execution_count": 1,
   "id": "680776fb",
   "metadata": {},
   "outputs": [],
   "source": [
    "# !pip install gapminder"
   ]
  },
  {
   "cell_type": "markdown",
   "id": "143e57b5",
   "metadata": {},
   "source": [
    "# 1. Load Data\n",
    "#### Gapminder module didn't work, so I downloaded raw file from github."
   ]
  },
  {
   "cell_type": "code",
   "execution_count": 2,
   "id": "7ee76136",
   "metadata": {},
   "outputs": [
    {
     "name": "stdout",
     "output_type": "stream",
     "text": [
      "       country  year         pop continent  lifeExp   gdpPercap\n",
      "0  Afghanistan  1952   8425333.0      Asia   28.801  779.445314\n",
      "1  Afghanistan  1957   9240934.0      Asia   30.332  820.853030\n",
      "2  Afghanistan  1962  10267083.0      Asia   31.997  853.100710\n",
      "3  Afghanistan  1967  11537966.0      Asia   34.020  836.197138\n",
      "4  Afghanistan  1972  13079460.0      Asia   36.088  739.981106\n"
     ]
    }
   ],
   "source": [
    "import pandas as pd\n",
    "\n",
    "\n",
    "url = 'https://raw.githubusercontent.com/resbaz/r-novice-gapminder-files/master/data/gapminder-FiveYearData.csv'\n",
    "gapminder = pd.read_csv(url)\n",
    "print(gapminder.head())"
   ]
  },
  {
   "cell_type": "markdown",
   "id": "cad78c9b",
   "metadata": {},
   "source": [
    "# 2. Data Merging\n",
    "\n",
    "No need to convert or merge. The format is already as desired"
   ]
  },
  {
   "cell_type": "markdown",
   "id": "e5db36c5",
   "metadata": {},
   "source": [
    "# 3. Data Cleaning and Preparation "
   ]
  },
  {
   "cell_type": "code",
   "execution_count": 3,
   "id": "a994fc00",
   "metadata": {},
   "outputs": [
    {
     "name": "stdout",
     "output_type": "stream",
     "text": [
      "country      0\n",
      "year         0\n",
      "pop          0\n",
      "continent    0\n",
      "lifeExp      0\n",
      "gdpPercap    0\n",
      "dtype: int64\n"
     ]
    }
   ],
   "source": [
    "# Check for null values\n",
    "print(gapminder.isnull().sum())\n",
    "\n",
    "# Rename columns \n",
    "gapminder.rename(columns={'pop': 'Population', 'gdpPercap': 'GDP_per_Capita', 'lifeExp': 'Life_Expectancy'}, inplace=True)"
   ]
  },
  {
   "cell_type": "markdown",
   "id": "781cd5de",
   "metadata": {},
   "source": [
    "#### We see that there is no null value in the dataset"
   ]
  },
  {
   "cell_type": "markdown",
   "id": "29e5e1a8",
   "metadata": {},
   "source": [
    "# 4. Data Exploration"
   ]
  },
  {
   "cell_type": "code",
   "execution_count": 4,
   "id": "103fc16e",
   "metadata": {},
   "outputs": [
    {
     "name": "stdout",
     "output_type": "stream",
     "text": [
      "       country  year  Population continent  Life_Expectancy  GDP_per_Capita\n",
      "0  Afghanistan  1952   8425333.0      Asia           28.801      779.445314\n",
      "1  Afghanistan  1957   9240934.0      Asia           30.332      820.853030\n",
      "2  Afghanistan  1962  10267083.0      Asia           31.997      853.100710\n",
      "3  Afghanistan  1967  11537966.0      Asia           34.020      836.197138\n",
      "4  Afghanistan  1972  13079460.0      Asia           36.088      739.981106\n",
      "       country  year  Population continent  Life_Expectancy  GDP_per_Capita\n",
      "1699  Zimbabwe  1987   9216418.0    Africa           62.351      706.157306\n",
      "1700  Zimbabwe  1992  10704340.0    Africa           60.377      693.420786\n",
      "1701  Zimbabwe  1997  11404948.0    Africa           46.809      792.449960\n",
      "1702  Zimbabwe  2002  11926563.0    Africa           39.989      672.038623\n",
      "1703  Zimbabwe  2007  12311143.0    Africa           43.487      469.709298\n"
     ]
    }
   ],
   "source": [
    "# Display the first and last 5 rows\n",
    "print(gapminder.head())\n",
    "print(gapminder.tail())"
   ]
  },
  {
   "cell_type": "code",
   "execution_count": 5,
   "id": "deec6aa4",
   "metadata": {},
   "outputs": [
    {
     "name": "stdout",
     "output_type": "stream",
     "text": [
      "Number of unique countries:  142\n"
     ]
    }
   ],
   "source": [
    "# Identify the number of unique countries\n",
    "unique_countries = gapminder['country'].nunique()\n",
    "print(\"Number of unique countries: \",unique_countries)"
   ]
  },
  {
   "cell_type": "code",
   "execution_count": 6,
   "id": "55c37d1f",
   "metadata": {},
   "outputs": [
    {
     "name": "stdout",
     "output_type": "stream",
     "text": [
      "        country  year  Population continent  Life_Expectancy  GDP_per_Capita\n",
      "0   Afghanistan  1952   8425333.0      Asia           28.801      779.445314\n",
      "12      Albania  1952   1282697.0    Europe           55.230     1601.056136\n",
      "24      Algeria  1952   9279525.0    Africa           43.077     2449.008185\n",
      "36       Angola  1952   4232095.0    Africa           30.015     3520.610273\n",
      "48    Argentina  1952  17876956.0  Americas           62.485     5911.315053\n"
     ]
    }
   ],
   "source": [
    "# Extract data for 1952 and create a new set\n",
    "data_1952 = gapminder[gapminder['year'] == 1952]\n",
    "print(data_1952.head())"
   ]
  },
  {
   "cell_type": "markdown",
   "id": "9344233d",
   "metadata": {},
   "source": [
    "# 5. Data Filtering"
   ]
  },
  {
   "cell_type": "code",
   "execution_count": 7,
   "id": "be1c3af6",
   "metadata": {},
   "outputs": [
    {
     "name": "stdout",
     "output_type": "stream",
     "text": [
      "       country  year  Population continent  Life_Expectancy  GDP_per_Capita\n",
      "0  Afghanistan  1952   8425333.0      Asia           28.801      779.445314\n",
      "1  Afghanistan  1957   9240934.0      Asia           30.332      820.853030\n",
      "2  Afghanistan  1962  10267083.0      Asia           31.997      853.100710\n",
      "3  Afghanistan  1967  11537966.0      Asia           34.020      836.197138\n",
      "4  Afghanistan  1972  13079460.0      Asia           36.088      739.981106\n"
     ]
    }
   ],
   "source": [
    "# Chosen continent = Asia\n",
    "africa_data = gapminder[gapminder['continent'] == 'Asia']\n",
    "\n",
    "# Filter countries with population < 1 million\n",
    "large_pop_data = africa_data[africa_data['Population'] > 1_000_000]\n",
    "print(large_pop_data.head())"
   ]
  },
  {
   "cell_type": "markdown",
   "id": "e73ab84b",
   "metadata": {},
   "source": [
    "# 6. Data Organization"
   ]
  },
  {
   "cell_type": "code",
   "execution_count": 8,
   "id": "a2afb77f",
   "metadata": {},
   "outputs": [
    {
     "name": "stdout",
     "output_type": "stream",
     "text": [
      "           country  year  Population continent  Life_Expectancy  \\\n",
      "1292        Rwanda  1992   7290203.0    Africa           23.599   \n",
      "0      Afghanistan  1952   8425333.0      Asia           28.801   \n",
      "552         Gambia  1952    284320.0    Africa           30.000   \n",
      "36          Angola  1952   4232095.0    Africa           30.015   \n",
      "1344  Sierra Leone  1952   2143249.0    Africa           30.331   \n",
      "\n",
      "      GDP_per_Capita  \n",
      "1292      737.068595  \n",
      "0         779.445314  \n",
      "552       485.230659  \n",
      "36       3520.610273  \n",
      "1344      879.787736  \n"
     ]
    }
   ],
   "source": [
    "sorted_data = gapminder.sort_values(by='Life_Expectancy', ascending=True)\n",
    "print(sorted_data.head())\n"
   ]
  },
  {
   "cell_type": "markdown",
   "id": "e7f77b0d",
   "metadata": {},
   "source": [
    "### Here we define categorize function according to thresholds, then apply it on gapmider['Population'] to get the new column"
   ]
  },
  {
   "cell_type": "code",
   "execution_count": 9,
   "id": "10874bc8",
   "metadata": {},
   "outputs": [],
   "source": [
    "def categorize(population):\n",
    "    if population > 50_000_000:\n",
    "        return 'High'\n",
    "    elif population > 10_000_000:\n",
    "        return 'Medium'\n",
    "    else:\n",
    "        return 'Low'"
   ]
  },
  {
   "cell_type": "code",
   "execution_count": 10,
   "id": "880ffb53",
   "metadata": {},
   "outputs": [
    {
     "name": "stdout",
     "output_type": "stream",
     "text": [
      "       country  Population Population_Category\n",
      "0  Afghanistan   8425333.0                 Low\n",
      "1  Afghanistan   9240934.0                 Low\n",
      "2  Afghanistan  10267083.0              Medium\n",
      "3  Afghanistan  11537966.0              Medium\n",
      "4  Afghanistan  13079460.0              Medium\n"
     ]
    }
   ],
   "source": [
    "gapminder['Population_Category'] = gapminder['Population'].apply(categorize)\n",
    "print(gapminder[['country', 'Population', 'Population_Category']].head())"
   ]
  },
  {
   "cell_type": "markdown",
   "id": "cf23565e",
   "metadata": {},
   "source": [
    "# 7. Basic Data Analysis"
   ]
  },
  {
   "cell_type": "markdown",
   "id": "4c484f07",
   "metadata": {},
   "source": [
    "#### I use groupby function to get grouped data, then print the mean of the gdp"
   ]
  },
  {
   "cell_type": "code",
   "execution_count": 11,
   "id": "b93c2444",
   "metadata": {},
   "outputs": [
    {
     "name": "stdout",
     "output_type": "stream",
     "text": [
      "continent\n",
      "Africa       2193.754578\n",
      "Americas     7136.110356\n",
      "Asia         7902.150428\n",
      "Europe      14469.475533\n",
      "Oceania     18621.609223\n",
      "Name: GDP_per_Capita, dtype: float64\n"
     ]
    }
   ],
   "source": [
    "grouped_data = gapminder.groupby('continent')\n",
    "print(grouped_data['GDP_per_Capita'].mean())"
   ]
  },
  {
   "cell_type": "markdown",
   "id": "21ad9258",
   "metadata": {},
   "source": [
    "#### Identify the country with the highest life expectancy in year 1952 using data_1952"
   ]
  },
  {
   "cell_type": "code",
   "execution_count": 12,
   "id": "36978417",
   "metadata": {},
   "outputs": [
    {
     "name": "stdout",
     "output_type": "stream",
     "text": [
      "country                 Norway\n",
      "year                      1952\n",
      "Population           3327728.0\n",
      "continent               Europe\n",
      "Life_Expectancy          72.67\n",
      "GDP_per_Capita     10095.42172\n",
      "Name: 1140, dtype: object\n"
     ]
    }
   ],
   "source": [
    "highest = data_1952.loc[data_1952['Life_Expectancy'].idxmax()]\n",
    "print(highest)"
   ]
  },
  {
   "cell_type": "markdown",
   "id": "488cfee4",
   "metadata": {},
   "source": [
    "# 8. Data Visualization"
   ]
  },
  {
   "cell_type": "code",
   "execution_count": 13,
   "id": "0dbd4432",
   "metadata": {},
   "outputs": [
    {
     "data": {
      "text/plain": [
       "<Axes: title={'center': 'Life Expectancy in Norway Over the Years'}, xlabel='Year', ylabel='Life Expectancy'>"
      ]
     },
     "execution_count": 13,
     "metadata": {},
     "output_type": "execute_result"
    },
    {
     "data": {
      "image/png": "[encoded data removed]",
      "text/plain": [
       "<Figure size 640x480 with 1 Axes>"
      ]
     },
     "metadata": {},
     "output_type": "display_data"
    }
   ],
   "source": [
    "norway_data = gapminder[gapminder['country'] == 'Norway']\n",
    "\n",
    "norway_data.plot(\n",
    "    x='year',\n",
    "    y='Life_Expectancy',\n",
    "    title='Life Expectancy in Norway Over the Years',\n",
    "    xlabel='Year',\n",
    "    ylabel='Life Expectancy',\n",
    "    grid=True               \n",
    ")"
   ]
  },
  {
   "cell_type": "code",
   "execution_count": null,
   "id": "0cf5ca35",
   "metadata": {},
   "outputs": [],
   "source": []
  }
 ],
 "metadata": {
  "kernelspec": {
   "display_name": "Python 3 (ipykernel)",
   "language": "python",
   "name": "python3"
  },
  "language_info": {
   "codemirror_mode": {
    "name": "ipython",
    "version": 3
   },
   "file_extension": ".py",
   "mimetype": "text/x-python",
   "name": "python",
   "nbconvert_exporter": "python",
   "pygments_lexer": "ipython3",
   "version": "3.9.6"
  }
 },
 "nbformat": 4,
 "nbformat_minor": 5
}
