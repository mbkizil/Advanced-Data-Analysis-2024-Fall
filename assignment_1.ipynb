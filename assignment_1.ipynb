{
 "cells": [
  {
   "cell_type": "markdown",
   "id": "2c929592",
   "metadata": {},
   "source": [
    "# Assignment 1\n",
    "\n",
    "#### M. Burak Kizil"
   ]
  },
  {
   "cell_type": "markdown",
   "id": "fcb79771",
   "metadata": {},
   "source": [
    "## Task 1"
   ]
  },
  {
   "cell_type": "code",
   "execution_count": 1,
   "id": "945fd2b7",
   "metadata": {},
   "outputs": [],
   "source": [
    "import random"
   ]
  },
  {
   "cell_type": "code",
   "execution_count": 2,
   "id": "5dd0ed3f",
   "metadata": {},
   "outputs": [],
   "source": [
    "true_random = random.randint(1, 20)\n",
    "guess = 0"
   ]
  },
  {
   "cell_type": "code",
   "execution_count": 3,
   "id": "8e6d3e50",
   "metadata": {},
   "outputs": [
    {
     "name": "stdout",
     "output_type": "stream",
     "text": [
      "Enter your guess: 10\n",
      "Guessed number 10 is bigger then correct number.\n",
      "Enter your guess: 5\n",
      "Guessed number 5 is smaller then correct number. 5\n",
      "Enter your guess: 7\n",
      "Correct!\n",
      "\n"
     ]
    }
   ],
   "source": [
    "while guess != true_random:\n",
    "    guess = int(input(\"Enter your guess: \"))\n",
    "    if guess > true_random:\n",
    "        print(f\"Guessed number {guess} is bigger then correct number.\", )\n",
    "    elif guess < true_random:\n",
    "        print(f\"Guessed number {guess} is smaller then correct number.\", guess)\n",
    "    else:\n",
    "        print(\"Correct!\\n\")\n",
    "\n"
   ]
  },
  {
   "cell_type": "markdown",
   "id": "294f706d",
   "metadata": {},
   "source": [
    "## Task 2"
   ]
  },
  {
   "cell_type": "code",
   "execution_count": 4,
   "id": "de79d178",
   "metadata": {},
   "outputs": [],
   "source": [
    "sample_array_1 = [i for i in range(10)]\n",
    "sample_array_2 = [i for i in range(10) if i!=5]"
   ]
  },
  {
   "cell_type": "code",
   "execution_count": 5,
   "id": "8610822e",
   "metadata": {},
   "outputs": [],
   "source": [
    "def func_2(arr, target):\n",
    "    print(\"Array: \", arr, \"\\n\")\n",
    "    ## Iterate through array while searching for target. \n",
    "    for i in range(len(arr)):\n",
    "        if arr[i] == target:\n",
    "            print(f\"Target {target} is found at index {i}\\n\")\n",
    "            break\n",
    "        elif arr[i] > target: ## If number exceeds the target, then target should be inserted here\n",
    "            print(f\"Target {target} should be inserted at index {i}\\n\")\n",
    "            break"
   ]
  },
  {
   "cell_type": "code",
   "execution_count": 6,
   "id": "4dbc41e7",
   "metadata": {},
   "outputs": [
    {
     "name": "stdout",
     "output_type": "stream",
     "text": [
      "Array:  [0, 1, 2, 3, 4, 5, 6, 7, 8, 9] \n",
      "\n",
      "Target 5 is found at index 5\n",
      "\n",
      "Array:  [0, 1, 2, 3, 4, 6, 7, 8, 9] \n",
      "\n",
      "Target 5 should be inserted at index 5\n",
      "\n"
     ]
    }
   ],
   "source": [
    "func_2(sample_array_1, 5)\n",
    "func_2(sample_array_2, 5)"
   ]
  },
  {
   "cell_type": "markdown",
   "id": "b30aa7ee",
   "metadata": {},
   "source": [
    "## Task 3"
   ]
  },
  {
   "cell_type": "code",
   "execution_count": 7,
   "id": "3754cba0",
   "metadata": {},
   "outputs": [],
   "source": [
    "str1 = \"11\"\n",
    "str2 = \"1\""
   ]
  },
  {
   "cell_type": "code",
   "execution_count": 8,
   "id": "c9f407e9",
   "metadata": {},
   "outputs": [],
   "source": [
    "def func_3(str1, str2):\n",
    "    bin1 = int(str1, 2)\n",
    "    bin2 = int(str2, 2)\n",
    "    return bin(bin1+bin2)[2:]    ## Since number is formatted as 0bxxxx, we reduce the initial 2 chars."
   ]
  },
  {
   "cell_type": "code",
   "execution_count": 9,
   "id": "fa8ede52",
   "metadata": {},
   "outputs": [
    {
     "name": "stdout",
     "output_type": "stream",
     "text": [
      "Sum of 11 and 1 equals to 100\n"
     ]
    }
   ],
   "source": [
    "print(f\"Sum of {str1} and {str2} equals to {func_3(str1, str2)}\")"
   ]
  },
  {
   "cell_type": "markdown",
   "id": "3e35b3ba",
   "metadata": {},
   "source": [
    "## Task 4"
   ]
  },
  {
   "cell_type": "code",
   "execution_count": 10,
   "id": "a2079ee6",
   "metadata": {},
   "outputs": [],
   "source": [
    "sample_array = [0, 1, 2, 3, 1]"
   ]
  },
  {
   "cell_type": "code",
   "execution_count": 11,
   "id": "84a2a43c",
   "metadata": {},
   "outputs": [],
   "source": [
    "def find_duplicate(arr):\n",
    "    for i in range(len(arr)):                    # For each element,\n",
    "        for j in range(1, len(arr)-i):           # compare it with every remaining element.\n",
    "            if arr[i] == arr[i+j]:\n",
    "                print(f\"Duplicate found at indices {i} and {i+j}\")\n",
    "                break"
   ]
  },
  {
   "cell_type": "code",
   "execution_count": 12,
   "id": "7cedee66",
   "metadata": {},
   "outputs": [
    {
     "name": "stdout",
     "output_type": "stream",
     "text": [
      "Duplicate found at indices 1 and 4\n"
     ]
    }
   ],
   "source": [
    "find_duplicate(sample_array)"
   ]
  },
  {
   "cell_type": "markdown",
   "id": "6b0f2b95",
   "metadata": {},
   "source": [
    "## Task 5"
   ]
  },
  {
   "cell_type": "code",
   "execution_count": 13,
   "id": "9afbc684",
   "metadata": {},
   "outputs": [],
   "source": [
    "sample_sequence = \"AAAAACCCCCAAAAACCCCCCAAAAAGGGTTT\""
   ]
  },
  {
   "cell_type": "code",
   "execution_count": 14,
   "id": "e21252eb",
   "metadata": {},
   "outputs": [],
   "source": [
    "def find_repeating_seq(seq):\n",
    "    found_repetitions = []\n",
    "    for i in range(len(seq)-10):             ## For every 10-letter sequence\n",
    "        subseq = seq[i:i+10]\n",
    "        for j in range(1,len(seq)-10-i):     ## Compare it with remaining subsequences.\n",
    "            subseq_2 = seq[i+j:i+j+10]\n",
    "            if subseq == subseq_2:\n",
    "                found_repetitions.append(subseq)\n",
    "                \n",
    "    return found_repetitions"
   ]
  },
  {
   "cell_type": "code",
   "execution_count": 15,
   "id": "7052a87e",
   "metadata": {},
   "outputs": [
    {
     "name": "stdout",
     "output_type": "stream",
     "text": [
      "['AAAAACCCCC', 'CCCCCAAAAA']\n"
     ]
    }
   ],
   "source": [
    "print(find_repeating_seq(sample_sequence))"
   ]
  },
  {
   "cell_type": "code",
   "execution_count": null,
   "id": "8623fa49",
   "metadata": {},
   "outputs": [],
   "source": []
  }
 ],
 "metadata": {
  "kernelspec": {
   "display_name": "Python 3 (ipykernel)",
   "language": "python",
   "name": "python3"
  },
  "language_info": {
   "codemirror_mode": {
    "name": "ipython",
    "version": 3
   },
   "file_extension": ".py",
   "mimetype": "text/x-python",
   "name": "python",
   "nbconvert_exporter": "python",
   "pygments_lexer": "ipython3",
   "version": "3.9.6"
  }
 },
 "nbformat": 4,
 "nbformat_minor": 5
}
